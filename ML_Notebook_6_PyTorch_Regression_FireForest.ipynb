{
  "nbformat": 4,
  "nbformat_minor": 0,
  "metadata": {
    "colab": {
      "provenance": [],
      "gpuType": "T4",
      "include_colab_link": true
    },
    "kernelspec": {
      "name": "python3",
      "display_name": "Python 3"
    },
    "language_info": {
      "name": "python"
    },
    "accelerator": "GPU"
  },
  "cells": [
    {
      "cell_type": "markdown",
      "metadata": {
        "id": "view-in-github",
        "colab_type": "text"
      },
      "source": [
        "<a href=\"https://colab.research.google.com/github/Pr-abin/100-_problem_in_NLP/blob/main/ML_Notebook_6_PyTorch_Regression_FireForest.ipynb\" target=\"_parent\"><img src=\"https://colab.research.google.com/assets/colab-badge.svg\" alt=\"Open In Colab\"/></a>"
      ]
    },
    {
      "cell_type": "markdown",
      "source": [
        "# PyTorch\n",
        "\n",
        "\n",
        "PyTorch is a freely available software library for machine learning that is utilized in a wide range of tasks related to understanding language and perception. It is actively employed by multiple teams at Meta Platforms, both for research purposes and in production settings. Numerous deep learning software solutions have been developed using PyTorch, such as **Tesla** Autopilot, **Uber**'s Pyro, **Hugging Face's Transformer**s, PyTorch Lightning, and Catalyst.\n",
        "\n",
        "**PyTorch offers two primary features:\n",
        "* tensor computing resembling NumPy and\n",
        "* the ability to construct and train deep neural networks. **"
      ],
      "metadata": {
        "id": "Ox3Hf80CLMNO"
      }
    },
    {
      "cell_type": "markdown",
      "source": [
        "# Device checking\n",
        "\n",
        "The code snippet below checks the availability of devices and sets the \"device\" variable for computation:\n",
        "\n"
      ],
      "metadata": {
        "id": "bYd9bHw7NM0M"
      }
    },
    {
      "cell_type": "code",
      "source": [
        "import torch\n",
        "\n",
        "# Check for GPU availability\n",
        "if torch.cuda.is_available():\n",
        "    device = torch.device(\"cuda\")\n",
        "else:\n",
        "    device = torch.device(\"cpu\")\n",
        "\n",
        "# Print the selected device\n",
        "print(\"Selected device:\", device)\n"
      ],
      "metadata": {
        "colab": {
          "base_uri": "https://localhost:8080/"
        },
        "id": "EKy-_UwyNUgU",
        "outputId": "ae02cd18-276a-4ac5-de60-bceecba249a2"
      },
      "execution_count": null,
      "outputs": [
        {
          "output_type": "stream",
          "name": "stdout",
          "text": [
            "Selected device: cuda\n"
          ]
        }
      ]
    },
    {
      "cell_type": "markdown",
      "source": [
        "The code uses the torch.cuda.is_available() function to check if a GPU is available. If a GPU is present, the \"device\" variable is set to use CUDA (GPU), otherwise, it is set to use the CPU. The selected device is then printed for confirmation."
      ],
      "metadata": {
        "id": "dxzUSXU9NuZF"
      }
    },
    {
      "cell_type": "markdown",
      "source": [
        "# Some Tensor Operation by Torch"
      ],
      "metadata": {
        "id": "DcIrt2KwOmSS"
      }
    },
    {
      "cell_type": "code",
      "source": [
        "import torch\n",
        "\n",
        "# Check for GPU availability\n",
        "if torch.cuda.is_available():\n",
        "    device = torch.device(\"cuda\")\n",
        "else:\n",
        "    device = torch.device(\"cpu\")\n",
        "\n",
        "# Create tensors\n",
        "matrix1 = torch.tensor([[3., 3.]], device=device)\n",
        "matrix2 = torch.tensor([[2.], [2.]], device=device)\n",
        "# The device parameter specifies the device (either CPU or GPU) on which the tensor should be stored.\n",
        "# Since the device variable was previously set based on the availability of a CUDA-enabled GPU,\n",
        "#the tensor will be stored on that GPU if available, otherwise on the CPU.\n",
        "\n",
        "# Perform matrix multiplication\n",
        "product = torch.mm(matrix2, matrix1)\n",
        "\n",
        "# Print the product\n",
        "print(device)\n",
        "print(product)\n",
        "print(float(product[0, 0]))"
      ],
      "metadata": {
        "colab": {
          "base_uri": "https://localhost:8080/"
        },
        "id": "R_POf3VrN0YM",
        "outputId": "9208c7f0-7079-4fdc-d01a-04ded9133419"
      },
      "execution_count": null,
      "outputs": [
        {
          "output_type": "stream",
          "name": "stdout",
          "text": [
            "cuda\n",
            "tensor([[6., 6.],\n",
            "        [6., 6.]], device='cuda:0')\n",
            "6.0\n"
          ]
        }
      ]
    },
    {
      "cell_type": "markdown",
      "source": [
        "# Tensor Subtraction:"
      ],
      "metadata": {
        "id": "2AKxFjExOuSp"
      }
    },
    {
      "cell_type": "code",
      "source": [
        "import torch\n",
        "\n",
        "# Check for GPU availability\n",
        "if torch.cuda.is_available():\n",
        "    device = torch.device(\"cuda\")\n",
        "else:\n",
        "    device = torch.device(\"cpu\")\n",
        "\n",
        "# Create tensors\n",
        "x = torch.tensor([1.0, 2.0], device=device)\n",
        "a = torch.tensor([3.0, 3.0], device=device)\n",
        "\n",
        "# Subtract 'a' from 'x'\n",
        "sub = torch.subtract(x, a)\n",
        "\n",
        "# Print the result\n",
        "print(sub)\n",
        "print(float(sub)) # this gives error!\n",
        "#print(sub.cpu().numpy())"
      ],
      "metadata": {
        "colab": {
          "base_uri": "https://localhost:8080/",
          "height": 217
        },
        "id": "hC0rGmexPKzh",
        "outputId": "3bba6f21-3493-4abf-c9f8-fbc5cf951e96"
      },
      "execution_count": null,
      "outputs": [
        {
          "output_type": "stream",
          "name": "stdout",
          "text": [
            "tensor([-2., -1.], device='cuda:0')\n"
          ]
        },
        {
          "output_type": "error",
          "ename": "ValueError",
          "evalue": "only one element tensors can be converted to Python scalars",
          "traceback": [
            "\u001b[0;31m---------------------------------------------------------------------------\u001b[0m",
            "\u001b[0;31mValueError\u001b[0m                                Traceback (most recent call last)",
            "\u001b[0;32m<ipython-input-4-6617c87650ef>\u001b[0m in \u001b[0;36m<cell line: 18>\u001b[0;34m()\u001b[0m\n\u001b[1;32m     16\u001b[0m \u001b[0;31m# Print the result\u001b[0m\u001b[0;34m\u001b[0m\u001b[0;34m\u001b[0m\u001b[0m\n\u001b[1;32m     17\u001b[0m \u001b[0mprint\u001b[0m\u001b[0;34m(\u001b[0m\u001b[0msub\u001b[0m\u001b[0;34m)\u001b[0m\u001b[0;34m\u001b[0m\u001b[0;34m\u001b[0m\u001b[0m\n\u001b[0;32m---> 18\u001b[0;31m \u001b[0mprint\u001b[0m\u001b[0;34m(\u001b[0m\u001b[0mfloat\u001b[0m\u001b[0;34m(\u001b[0m\u001b[0msub\u001b[0m\u001b[0;34m)\u001b[0m\u001b[0;34m)\u001b[0m \u001b[0;31m# this gives error!\u001b[0m\u001b[0;34m\u001b[0m\u001b[0;34m\u001b[0m\u001b[0m\n\u001b[0m\u001b[1;32m     19\u001b[0m \u001b[0;31m#print(sub.cpu().numpy())\u001b[0m\u001b[0;34m\u001b[0m\u001b[0;34m\u001b[0m\u001b[0m\n",
            "\u001b[0;31mValueError\u001b[0m: only one element tensors can be converted to Python scalars"
          ]
        }
      ]
    },
    {
      "cell_type": "markdown",
      "source": [
        "**Why it gives error? **\n",
        "\n",
        "With this no error, try it: print(sub.cpu().numpy())\n"
      ],
      "metadata": {
        "id": "1Y5_SDiaPmK4"
      }
    },
    {
      "cell_type": "markdown",
      "source": [
        "# What does it mean: sub.cpu().numpy()\n",
        "\n",
        " In order to use NumPy with a PyTorch tensor, we need to bring the tensor back to the CPU using the cpu() method and then call numpy() to access the tensor as a NumPy array. If the tensor is already on the CPU, the cpu() function has no effect and simply returns the tensor as is."
      ],
      "metadata": {
        "id": "E4xyWPzwP7sh"
      }
    },
    {
      "cell_type": "markdown",
      "source": [
        "# Example of using PyTorch on a math operation:"
      ],
      "metadata": {
        "id": "3-9kqhuD3OZ1"
      }
    },
    {
      "cell_type": "code",
      "source": [
        "import torch\n",
        "import matplotlib.pyplot as plt\n",
        "\n",
        "# Create a range of values for the x-axis\n",
        "x = torch.linspace(-5, 5, 100)\n",
        "\n",
        "# Define the mathematical shape (in this case, a parabola)\n",
        "y = x**2\n",
        "\n",
        "# Convert tensors to NumPy arrays\n",
        "x_np = x.numpy()\n",
        "y_np = y.numpy()\n",
        "\n",
        "# Plot the shape\n",
        "plt.plot(y_np, x_np)\n",
        "plt.xlabel('x')\n",
        "plt.ylabel('y')\n",
        "plt.title('Parabola')\n",
        "plt.grid(True)\n",
        "plt.show()\n"
      ],
      "metadata": {
        "colab": {
          "base_uri": "https://localhost:8080/",
          "height": 472
        },
        "id": "pUd7ZFhxzA2y",
        "outputId": "47270032-f764-4994-a083-82e2f5df0ff9"
      },
      "execution_count": null,
      "outputs": [
        {
          "output_type": "display_data",
          "data": {
            "text/plain": [
              "<Figure size 640x480 with 1 Axes>"
            ],
            "image/png": "[encoded data removed]"
          },
          "metadata": {}
        }
      ]
    },
    {
      "cell_type": "markdown",
      "source": [
        "In this example, we first create a range of values for the x-axis using torch.linspace to generate 100 equally spaced points between -5 and 5. We then define the mathematical shape, in this case, a parabola, by squaring the x values. Next, we convert the tensors x and y to NumPy arrays using the numpy() method. Finally, we use Matplotlib to plot the shape, setting labels for the x-axis and y-axis, adding a title, enabling gridlines, and displaying the plot with plt.show()."
      ],
      "metadata": {
        "id": "D199da81zUlf"
      }
    },
    {
      "cell_type": "markdown",
      "source": [
        "# A regression Example by Pytorch\n",
        "\n",
        "Here we have applied the regression on a the fireforest dataset:\n",
        "https://data.heatonresearch.com/data/t81-558/forestfires.csv\n",
        "\n",
        "Different parameters have been given, and using ML, we predict the burnt area by fire for each location!\n",
        "\n",
        "Similar approach can be applied for predicting the abalone age:\n",
        "https://data.heatonresearch.com/data/t81-558/abalone.csv\n",
        "That is your assignmen, you should do it by modifying the same Colabnotebook, save this colabnotebook, and uploaded it on your own google drive, then modify it for predicting the age of abalone.\n",
        "\n",
        "Predicting the age of abalone is from physical measurements.  The age of abalone is determined by cutting the shell through the cone, staining it, and counting the number of rings through a microscope -- a boring and time-consuming task.  Other measurements, which are easier to obtain, are used to predict the age.  Further information, such as weather patterns and location (hence food availability) may be required to solve the problem.\n",
        "\n",
        "From the original data examples with missing values were removed (the majority having the predicted value missing), and the ranges of the continuous values have been scaled for use with an ANN (by dividing by 200).\n"
      ],
      "metadata": {
        "id": "4ahcphUA3h18"
      }
    },
    {
      "cell_type": "code",
      "source": [
        "\n",
        "import torch\n",
        "\n",
        "# finding the device under use:\n",
        "# Check for GPU availability\n",
        "if torch.cuda.is_available():\n",
        "    device = torch.device(\"cuda\")\n",
        "else:\n",
        "    device = torch.device(\"cpu\")\n",
        "\n",
        "# Print the selected device\n",
        "print(\"Selected device:\", device)\n",
        "\n",
        "\n",
        "import pandas as pd\n",
        "from sklearn.model_selection import train_test_split\n",
        "# imports the train_test_split function from the model_selection module of the sklearn package\n",
        "# train_test_split is a function commonly used for splitting datasets into training and testing subsets.\n",
        "from sklearn.metrics import accuracy_score\n",
        "# accuracy_score is a function used to calculate the accuracy of a classification model by comparing the predicted labels with the true labels.\n",
        "\n",
        "\n",
        "import torch.nn as nn\n",
        "#  nn is a sub-package of PyTorch that provides various classes and functions for building neural networks.\n",
        "import torch.nn.functional as F\n",
        "# torch.nn.functional provides various activation functions, loss functions, ...\n",
        "import numpy as np\n",
        "from torch.autograd import Variable #  for automatic differentiation\n",
        "from sklearn import preprocessing # for preprocessing and transforming data before feeding it into models.\n",
        "# It includes scaling, standardizing, encoding categorical variables, and more\n",
        "\n",
        "# You will create a network class for every PyTorch neural network you create.\n",
        "class Net(nn.Module):\n",
        "    def __init__(self, in_count, out_count):\n",
        "        super(Net, self).__init__() # initializing the Net from the super class.\n",
        "        # We must define each of the layers.\n",
        "        self.fc1 = nn.Linear(in_count, 50)\n",
        "        self.fc2 = nn.Linear(50, 25)\n",
        "        self.fc3 = nn.Linear(25, 1)\n",
        "\n",
        "    def forward(self, x):\n",
        "        # In the forward pass, we must calculate all of the layers we\n",
        "        # previously defined.\n",
        "        x = F.relu(self.fc1(x))\n",
        "        x = F.relu(self.fc2(x))\n",
        "        return self.fc3(x)"
      ],
      "metadata": {
        "id": "icFpk0eg4OjL",
        "colab": {
          "base_uri": "https://localhost:8080/"
        },
        "outputId": "d9a43cde-3b7f-4445-d83c-55c01e349434"
      },
      "execution_count": null,
      "outputs": [
        {
          "output_type": "stream",
          "name": "stdout",
          "text": [
            "Selected device: cuda\n"
          ]
        }
      ]
    },
    {
      "cell_type": "markdown",
      "source": [
        "\n",
        "The structure of your neural network is defined in the above **Net** class. The specific name of the class is not significant; however, it must inherit from **nn.Module** and implement the **init** and **forward** methods.\n",
        "\n",
        "Within the init method, you define the layers of the neural network. In this case, the network has an input layer that matches the number of inputs specified from the dataset. These inputs are then connected to 50 neurons in the first hidden layer, which in turn connect to 25 neurons in the second layer. It is important to ensure that the number of output neurons in a layer matches the number of input neurons in the subsequent layer."
      ],
      "metadata": {
        "id": "4im2lcWD4gDp"
      }
    },
    {
      "cell_type": "markdown",
      "source": [
        "The **forward** method plays a crucial role in connecting the layers and specifying the activation functions in your neural network. In our case, we will consistently use the ReLU activation function for the hidden layers. However, **for the output layer of a regression neural network, no activation function is applied**. When it comes to **classification tasks, we utilize the logistic function for binary classification** (involving two classes only) or the **softmax function for classification problems with two or more classes**."
      ],
      "metadata": {
        "id": "1Py6Qa8A55rY"
      }
    },
    {
      "cell_type": "markdown",
      "source": [
        "In order for the neural network to function properly, several factors must align.\n",
        "\n",
        "* Firstly, the **init** method should define the layers with matching numbers of outputs and inputs for each connection. This ensures consistency in the flow of information between the layers.\n",
        "\n",
        "* Additionally, the forward method plays a crucial role in linking all the layers together in the correct order. By properly connecting the layers, the **forward** method ensures that the data is propagated through the network in a sequential and meaningful way, ultimately leading to accurate predictions or classifications."
      ],
      "metadata": {
        "id": "FTwZkaSG58Tg"
      }
    },
    {
      "cell_type": "code",
      "source": [
        " # Read the dataset.\n",
        "df = pd.read_csv(\n",
        "    \"https://data.heatonresearch.com/data/t81-558/forestfires.csv\",\n",
        "    na_values=['NA', '?'])\n",
        "\n",
        "loc1 = df['X']\n",
        "loc2 = df['Y']\n",
        "\n",
        "# Handle missing value\n",
        "df['rain'] = df['rain'].fillna(df['rain'].median())\n",
        "\n",
        "# Pandas to Numpy\n",
        "x = df[['X', 'Y', 'DC', 'FFMC', 'DMC', 'rain', 'ISI',\n",
        "       'temp', 'RH', 'wind']].values\n",
        "y = df['area'].values # target values\n",
        "\n",
        "# Numpy to PyTorch\n",
        "x = torch.tensor(x,device=device,dtype=torch.float32)\n",
        "y = torch.tensor(y,device=device,dtype=torch.float32)"
      ],
      "metadata": {
        "id": "iGKGcopj6YHv"
      },
      "execution_count": null,
      "outputs": []
    },
    {
      "cell_type": "markdown",
      "source": [
        "\n",
        "To load the CSV file, Pandas is used as demonstrated before.  **In cases where the  values are missing, the median value is used as a substitute.** **The data is then converted from Pandas to NumPy, and subsequently from NumPy to PyTorch**. Only the selected fields that will be used for prediction are retained. The Net class is designed to automatically adjust the number of input neurons based on the size of this data.\n",
        "\n",
        "With the data loaded and prepared, it is time to create the neural network, loss function, and optimizer class to facilitate the training process."
      ],
      "metadata": {
        "id": "4wSdgfMV7OJn"
      }
    },
    {
      "cell_type": "code",
      "source": [
        "# Define the neural network\n",
        "model = Net(x.shape[1],1).to(device)\n",
        "\n",
        "# Define the optimizer\n",
        "optimizer = torch.optim.Adam(model.parameters(), lr=0.01)\n",
        "\n",
        "# Define the loss function for regression\n",
        "loss_fn = nn.MSELoss()"
      ],
      "metadata": {
        "id": "Au8lIKJ97QLX"
      },
      "execution_count": null,
      "outputs": []
    },
    {
      "cell_type": "markdown",
      "source": [
        "The neural network is created using the size of input, which is equal to the number of columns in the x-input data. One output neuron is specified to predict the value. For the error function, we use MSELoss, which is commonly used for regression tasks. The Adam optimizer is chosen with a learning rate of 0.01 for training the network. Adam is a popular optimizer, and 0.01 is a reasonable initial learning rate. It's important to note that the learning rate should not exceed 1.0. If the learning rate is too high, the network may fail to learn effectively, while a very low learning rate would result in slow training. Advanced methods for determining the optimal learning rate, such as learning rate schedules, will be covered later.\n",
        "\n",
        "With all the necessary objects created, we can now proceed to train the neural network."
      ],
      "metadata": {
        "id": "8AEfxapL7jAF"
      }
    },
    {
      "cell_type": "code",
      "source": [
        "# Train for 10000 epochs.\n",
        "for epoch in range(10000):\n",
        "    optimizer.zero_grad()\n",
        "    out = model(x).flatten()\n",
        "    loss = loss_fn(out, y)\n",
        "    loss.backward()\n",
        "    optimizer.step()\n",
        "# Assignment: go through the above code, make a short note for yourself,\n",
        "\n",
        "    # Display status every 100 epochs.\n",
        "    if epoch % 100 == 0:\n",
        "        print(f\"Epoch {epoch}, loss: {loss.item()}\")"
      ],
      "metadata": {
        "colab": {
          "base_uri": "https://localhost:8080/"
        },
        "id": "wOP8p-WB7kCe",
        "outputId": "8c328332-b7f8-45a2-c050-f1d692dcd658"
      },
      "execution_count": null,
      "outputs": [
        {
          "output_type": "stream",
          "name": "stdout",
          "text": [
            "Epoch 0, loss: 4834.59033203125\n",
            "Epoch 100, loss: 3951.263916015625\n",
            "Epoch 200, loss: 3730.614990234375\n",
            "Epoch 300, loss: 3426.549560546875\n",
            "Epoch 400, loss: 2882.23291015625\n",
            "Epoch 500, loss: 2514.11279296875\n",
            "Epoch 600, loss: 2926.951904296875\n",
            "Epoch 700, loss: 2068.617431640625\n",
            "Epoch 800, loss: 1684.3121337890625\n",
            "Epoch 900, loss: 2454.193115234375\n",
            "Epoch 1000, loss: 1812.0714111328125\n",
            "Epoch 1100, loss: 1433.5450439453125\n",
            "Epoch 1200, loss: 1291.8984375\n",
            "Epoch 1300, loss: 1191.12939453125\n",
            "Epoch 1400, loss: 1025.2928466796875\n",
            "Epoch 1500, loss: 869.455322265625\n",
            "Epoch 1600, loss: 737.9486694335938\n",
            "Epoch 1700, loss: 600.3748779296875\n",
            "Epoch 1800, loss: 1428.8013916015625\n",
            "Epoch 1900, loss: 472.2813720703125\n",
            "Epoch 2000, loss: 426.26055908203125\n",
            "Epoch 2100, loss: 399.2085876464844\n",
            "Epoch 2200, loss: 381.314697265625\n",
            "Epoch 2300, loss: 368.8194885253906\n",
            "Epoch 2400, loss: 363.4410095214844\n",
            "Epoch 2500, loss: 349.96881103515625\n",
            "Epoch 2600, loss: 342.708740234375\n",
            "Epoch 2700, loss: 336.1187744140625\n",
            "Epoch 2800, loss: 335.72613525390625\n",
            "Epoch 2900, loss: 327.1569519042969\n",
            "Epoch 3000, loss: 316.0871276855469\n",
            "Epoch 3100, loss: 308.63385009765625\n",
            "Epoch 3200, loss: 299.2721252441406\n",
            "Epoch 3300, loss: 295.3200988769531\n",
            "Epoch 3400, loss: 292.18865966796875\n",
            "Epoch 3500, loss: 295.5262451171875\n",
            "Epoch 3600, loss: 277.04034423828125\n",
            "Epoch 3700, loss: 291.1337585449219\n",
            "Epoch 3800, loss: 272.4224548339844\n",
            "Epoch 3900, loss: 299.4659423828125\n",
            "Epoch 4000, loss: 263.3263854980469\n",
            "Epoch 4100, loss: 264.4035339355469\n",
            "Epoch 4200, loss: 250.67807006835938\n",
            "Epoch 4300, loss: 270.2786865234375\n",
            "Epoch 4400, loss: 252.62391662597656\n",
            "Epoch 4500, loss: 239.17709350585938\n",
            "Epoch 4600, loss: 3465.65380859375\n",
            "Epoch 4700, loss: 3213.6728515625\n",
            "Epoch 4800, loss: 3075.11669921875\n",
            "Epoch 4900, loss: 2919.31298828125\n",
            "Epoch 5000, loss: 2680.576416015625\n",
            "Epoch 5100, loss: 2403.5126953125\n",
            "Epoch 5200, loss: 2186.287109375\n",
            "Epoch 5300, loss: 1992.9014892578125\n",
            "Epoch 5400, loss: 1830.8946533203125\n",
            "Epoch 5500, loss: 1751.472900390625\n",
            "Epoch 5600, loss: 1591.1925048828125\n",
            "Epoch 5700, loss: 1507.8065185546875\n",
            "Epoch 5800, loss: 1391.20556640625\n",
            "Epoch 5900, loss: 1374.9110107421875\n",
            "Epoch 6000, loss: 1138.537841796875\n",
            "Epoch 6100, loss: 1122.2989501953125\n",
            "Epoch 6200, loss: 1042.58642578125\n",
            "Epoch 6300, loss: 862.91552734375\n",
            "Epoch 6400, loss: 791.2080078125\n",
            "Epoch 6500, loss: 750.9793090820312\n",
            "Epoch 6600, loss: 779.0429077148438\n",
            "Epoch 6700, loss: 650.3721923828125\n",
            "Epoch 6800, loss: 926.9841918945312\n",
            "Epoch 6900, loss: 567.1134643554688\n",
            "Epoch 7000, loss: 708.6221313476562\n",
            "Epoch 7100, loss: 522.10498046875\n",
            "Epoch 7200, loss: 510.8468017578125\n",
            "Epoch 7300, loss: 532.3937377929688\n",
            "Epoch 7400, loss: 451.5841369628906\n",
            "Epoch 7500, loss: 474.0310974121094\n",
            "Epoch 7600, loss: 546.9043579101562\n",
            "Epoch 7700, loss: 446.3150939941406\n",
            "Epoch 7800, loss: 416.72344970703125\n",
            "Epoch 7900, loss: 446.1048889160156\n",
            "Epoch 8000, loss: 424.5031433105469\n",
            "Epoch 8100, loss: 384.74639892578125\n",
            "Epoch 8200, loss: 497.93975830078125\n",
            "Epoch 8300, loss: 435.5907287597656\n",
            "Epoch 8400, loss: 379.28955078125\n",
            "Epoch 8500, loss: 381.8655700683594\n",
            "Epoch 8600, loss: 373.7005615234375\n",
            "Epoch 8700, loss: 545.8971557617188\n",
            "Epoch 8800, loss: 405.08721923828125\n",
            "Epoch 8900, loss: 365.1636962890625\n",
            "Epoch 9000, loss: 372.7760314941406\n",
            "Epoch 9100, loss: 351.173095703125\n",
            "Epoch 9200, loss: 377.78363037109375\n",
            "Epoch 9300, loss: 382.14398193359375\n",
            "Epoch 9400, loss: 328.4698181152344\n",
            "Epoch 9500, loss: 402.76361083984375\n",
            "Epoch 9600, loss: 338.8416748046875\n",
            "Epoch 9700, loss: 365.5824890136719\n",
            "Epoch 9800, loss: 343.477294921875\n",
            "Epoch 9900, loss: 317.5401306152344\n"
          ]
        }
      ]
    },
    {
      "cell_type": "markdown",
      "source": [
        "\n",
        "In the training process, we iterate over 10,000 epochs, where each epoch represents a complete pass over the training set. At the start of each epoch, we zero the gradients to ensure that the gradients from the previous epoch don't influence the current epoch's training. The entire training set is presented to the model as one large batch. In more advanced techniques, we'll explore different ways to segment the data for training.\n",
        "\n",
        "During each epoch, we apply the loss function to calculate the loss between the predicted output and the actual target values. Then, using backpropagation, we compute the gradients of the loss with respect to the network weights. These gradients are used to update the weights, making incremental adjustments to improve the network's performance."
      ],
      "metadata": {
        "id": "j2Jop9Aj7zyO"
      }
    },
    {
      "cell_type": "markdown",
      "source": [
        "# Introducing Hyperparameters of the network\n",
        "\n",
        "\n",
        "The neural network consists of multiple hidden layers, with varying numbers of neurons such as 50 and 25. The decision on the number of neurons in each layer is a common concern in neural networks. Unfortunately, there is no definitive answer as it depends on the specific problem and data. These choices are known as hyperparameters, which significantly impact the performance of the neural network, yet there is no universally agreed-upon method for setting them.\n",
        "\n",
        "Generally, having more hidden neurons enhances the network's ability to handle complex problems. However, excessive neurons can lead to overfitting and longer training times. On the other hand, too few neurons can result in underfitting and reduced accuracy. Additionally, the number of layers is another hyperparameter to consider. In general, more layers allow the network to perform advanced data preprocessing and feature engineering. However, this comes at the cost of increased training time and the risk of overfitting. It is common to observe a pattern where the number of neurons starts higher near the input layer and gradually decreases towards the output layer, forming a triangular shape."
      ],
      "metadata": {
        "id": "Uz-GJYm477NU"
      }
    },
    {
      "cell_type": "markdown",
      "source": [
        "# Giving the Prediction value\n",
        "\n",
        "We will proceed with making real predictions. The program will store these predictions in the variable \"**pred**\". These predictions represent the values estimated by the neural network. It's worth noting that the shape of \"**pred**\" is a 2D array. You can always determine the dimensions of the output by printing **\"pred.shape**\". Neural networks have the capability to produce multiple outputs, hence the array format. In this case, the neural network generates only one value per prediction Nonetheless, a 2D array is used to accommodate the possibility of multiple values being returned by the neural network.\n"
      ],
      "metadata": {
        "id": "cTrd2WFV_wVY"
      }
    },
    {
      "cell_type": "code",
      "source": [
        "pred = model(x)\n",
        "print(f\"Shape: {pred.shape}\")\n",
        "print(pred[0:10])"
      ],
      "metadata": {
        "colab": {
          "base_uri": "https://localhost:8080/"
        },
        "id": "V-N8gvRQAOhQ",
        "outputId": "bb545046-280e-4cba-8966-d66edd6c86f0"
      },
      "execution_count": null,
      "outputs": [
        {
          "output_type": "stream",
          "name": "stdout",
          "text": [
            "Shape: torch.Size([517, 1])\n",
            "tensor([[  6.9087],\n",
            "        [-12.3645],\n",
            "        [-22.4224],\n",
            "        [  7.3321],\n",
            "        [ -3.2382],\n",
            "        [  9.2181],\n",
            "        [  6.4532],\n",
            "        [ -3.3428],\n",
            "        [  0.9024],\n",
            "        [ -8.4254]], grad_fn=<SliceBackward0>)\n"
          ]
        }
      ]
    },
    {
      "cell_type": "markdown",
      "source": [
        "To evaluate the accuracy of the predictions, we need to compare the predicted values to the actual  values. This allows us to measure how closely the neural network estimated the values. One way to assess this is by calculating the Root Mean Square Error (RMSE) using the Sklearn library. However, before using Sklearn, we need to bring the predictions back to the CPU and detach them from the neural network graph. The code snippet below demonstrates how to achieve this using \"**cpu().detach()**\"."
      ],
      "metadata": {
        "id": "s-C0S7_ZAZh4"
      }
    },
    {
      "cell_type": "code",
      "source": [
        "from sklearn import metrics\n",
        "\n",
        "# Measure RMSE error.  RMSE is common for regression.\n",
        "score = np.sqrt(metrics.mean_squared_error(pred.cpu().detach(),\n",
        "  y.cpu().detach()))\n",
        "print(f\"Final score (RMSE): {score}\")"
      ],
      "metadata": {
        "colab": {
          "base_uri": "https://localhost:8080/"
        },
        "id": "hsdbasrjAdSO",
        "outputId": "162b8c17-b55e-492e-d645-f70432413125"
      },
      "execution_count": null,
      "outputs": [
        {
          "output_type": "stream",
          "name": "stdout",
          "text": [
            "Final score (RMSE): 44.817604064941406\n"
          ]
        }
      ]
    },
    {
      "cell_type": "markdown",
      "source": [
        "It can be also done in easier way in coddign using just PyTorch:"
      ],
      "metadata": {
        "id": "7mbls49fBTXl"
      }
    },
    {
      "cell_type": "code",
      "source": [
        "score = torch.sqrt(torch.nn.functional.mse_loss(pred.flatten(),y))\n",
        "print(f\"Final score (RMSE): {score}\")"
      ],
      "metadata": {
        "colab": {
          "base_uri": "https://localhost:8080/"
        },
        "id": "bNaGHIUzBZ5k",
        "outputId": "8ac70e4c-2e8a-4a08-e327-c1fc45fb53d6"
      },
      "execution_count": null,
      "outputs": [
        {
          "output_type": "stream",
          "name": "stdout",
          "text": [
            "Final score (RMSE): 21.260713577270508\n"
          ]
        }
      ]
    },
    {
      "cell_type": "code",
      "source": [
        "# Sample predictions\n",
        "for i in range(10):\n",
        "    print(f\"{i+1}. XY: {loc1[i]}, {loc2[i]}, areas: {y[i]}, \"\n",
        "          + f\"predicted area: {pred[i]}\")"
      ],
      "metadata": {
        "id": "IZm7hk5YD4wx",
        "outputId": "195697da-a1ab-4c1e-e58d-ce5164f1223e",
        "colab": {
          "base_uri": "https://localhost:8080/"
        }
      },
      "execution_count": null,
      "outputs": [
        {
          "output_type": "stream",
          "name": "stdout",
          "text": [
            "1. XY: 7, 5, areas: 0.0, predicted area: tensor([6.9087], grad_fn=<SelectBackward0>)\n",
            "2. XY: 7, 4, areas: 0.0, predicted area: tensor([-12.3645], grad_fn=<SelectBackward0>)\n",
            "3. XY: 7, 4, areas: 0.0, predicted area: tensor([-22.4224], grad_fn=<SelectBackward0>)\n",
            "4. XY: 8, 6, areas: 0.0, predicted area: tensor([7.3321], grad_fn=<SelectBackward0>)\n",
            "5. XY: 8, 6, areas: 0.0, predicted area: tensor([-3.2382], grad_fn=<SelectBackward0>)\n",
            "6. XY: 8, 6, areas: 0.0, predicted area: tensor([9.2181], grad_fn=<SelectBackward0>)\n",
            "7. XY: 8, 6, areas: 0.0, predicted area: tensor([6.4532], grad_fn=<SelectBackward0>)\n",
            "8. XY: 8, 6, areas: 0.0, predicted area: tensor([-3.3428], grad_fn=<SelectBackward0>)\n",
            "9. XY: 8, 6, areas: 0.0, predicted area: tensor([0.9024], grad_fn=<SelectBackward0>)\n",
            "10. XY: 7, 5, areas: 0.0, predicted area: tensor([-8.4254], grad_fn=<SelectBackward0>)\n"
          ]
        }
      ]
    }
  ]
}